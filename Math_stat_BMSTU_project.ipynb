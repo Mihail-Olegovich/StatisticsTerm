{
 "cells": [
  {
   "cell_type": "markdown",
   "id": "907e5bdc",
   "metadata": {},
   "source": [
    "**Проект предназначен для автоматизации выполнения курсового домашнего задания по дисциплине \"Теория вероятности и математическая статистика\"**"
   ]
  },
  {
   "cell_type": "markdown",
   "id": "43a62aa2",
   "metadata": {},
   "source": [
    "В list_number помещается выборка из вашего вырианта, далее в автоматическом режиме расчитываются диапазоны корзин для построения гистограммы, выводятся все необходимые таблицы и результаты статистического теста"
   ]
  },
  {
   "cell_type": "markdown",
   "id": "ab728d7e",
   "metadata": {},
   "source": [
    "## Часть 1"
   ]
  },
  {
   "cell_type": "code",
   "execution_count": 1,
   "id": "0d5b7c9f",
   "metadata": {
    "ExecuteTime": {
     "end_time": "2023-06-12T14:09:27.249917Z",
     "start_time": "2023-06-12T14:09:20.213197Z"
    }
   },
   "outputs": [],
   "source": [
    "import pandas as pd\n",
    "import seaborn as sns\n",
    "import matplotlib.pyplot as plt\n",
    "import scipy"
   ]
  },
  {
   "cell_type": "code",
   "execution_count": 2,
   "id": "31310a8d",
   "metadata": {
    "ExecuteTime": {
     "end_time": "2023-06-12T14:09:27.281270Z",
     "start_time": "2023-06-12T14:09:27.256109Z"
    }
   },
   "outputs": [],
   "source": [
    "# экспериментальная выборка\n",
    "list_number = [381, 421, 372, 418, 392, 427, 385, 358, 370, 412, 411, 385, 395, 382, 376, 380, 383, 395, 391,\n",
    "               430, 391, 377, 372, 406, 429, 429, 376, 431, 405, 430, 382, 429, 413, 421, 395, 413, 430 , 373,\n",
    "               393, 375, 364, 449, 382, 375, 371, 411, 427, 362, 388, 409, 400, 392, 378, 421, 399, 395, 384, \n",
    "               373, 391, 348, 410, 428, 382, 418, 398, 378, 412, 418, 440, 403, 389, 397, 365, 399, 418, 400, \n",
    "               402, 405, 410, 423, 373, 409, 390, 432, 394, 369,429,440, 389, 399, 351, 384, 425, 407, 383, \n",
    "               415,418, 456, 363, 388, 422, 425, 383, 400, 404, 418, 420, 398, 388, 421, 437, 418, 376, 383, \n",
    "               347, 428, 388, 398, 433, 380, 416, 384, 410, 363, 429, 395 ] "
   ]
  },
  {
   "cell_type": "code",
   "execution_count": 3,
   "id": "0edfb772",
   "metadata": {
    "ExecuteTime": {
     "end_time": "2023-06-12T14:09:27.313360Z",
     "start_time": "2023-06-12T14:09:27.285140Z"
    }
   },
   "outputs": [
    {
     "data": {
      "text/plain": [
       "126"
      ]
     },
     "execution_count": 3,
     "metadata": {},
     "output_type": "execute_result"
    }
   ],
   "source": [
    "vector = pd.Series(list_number)\n",
    "n = len(vector)\n",
    "n"
   ]
  },
  {
   "cell_type": "markdown",
   "id": "56e00c0a",
   "metadata": {},
   "source": [
    "Вычисление оптимальной величины интервала группировки"
   ]
  },
  {
   "cell_type": "code",
   "execution_count": 4,
   "id": "3ee116a8",
   "metadata": {
    "ExecuteTime": {
     "end_time": "2023-06-12T14:09:27.344585Z",
     "start_time": "2023-06-12T14:09:27.318363Z"
    }
   },
   "outputs": [
    {
     "data": {
      "text/plain": [
       "11"
      ]
     },
     "execution_count": 4,
     "metadata": {},
     "output_type": "execute_result"
    }
   ],
   "source": [
    "delta_x = vector.max() - vector.min() \n",
    "delta_x\n",
    "g = 10 # меняем число классов                                                     \n",
    "h = round(delta_x/g) # шаг \n",
    "h"
   ]
  },
  {
   "cell_type": "markdown",
   "id": "d7f3cf4f",
   "metadata": {},
   "source": [
    "Построение таблицы частот"
   ]
  },
  {
   "cell_type": "code",
   "execution_count": 5,
   "id": "16f77fa3",
   "metadata": {
    "ExecuteTime": {
     "end_time": "2023-06-12T14:09:27.376537Z",
     "start_time": "2023-06-12T14:09:27.348545Z"
    }
   },
   "outputs": [],
   "source": [
    "x1 = vector.min() - 0.5  \n",
    "x2 = x1 + h\n",
    "x1_list = []\n",
    "x2_list = []\n",
    "interval_list = [] # список интервалов\n",
    "mean_list = [] # список средних для интервалов\n",
    "rate_list = [] # список частот \n",
    "relative_rate_list = [] # список относительных частот\n",
    "cumulative_rate_list = [] # список накопленных частот\n",
    "relative_cumulative_rate_list = [] # список накопленных относительных частот \n",
    "\n",
    "hist_y_list = [] # значения для оси y в гистограмме\n",
    "\n",
    "count_all = 0\n",
    "\n",
    "for i in range(g):\n",
    "    count = 0\n",
    "    x1_list.append(x1)\n",
    "    x2_list.append(x2)\n",
    "    interval_list.append(f\"{x1} - {x2}\")\n",
    "    mean_list.append((x1+x2)/2)\n",
    "    for j in range(len(vector)):\n",
    "        if (vector[j] > x1) and (vector[j] < x2):\n",
    "            count += 1\n",
    "            count_all +=1\n",
    "    rate_list.append(count) \n",
    "    relative_rate_list.append(count/len(list_number))\n",
    "    cumulative_rate_list.append(count_all)\n",
    "    relative_cumulative_rate_list.append(count_all/len(list_number))\n",
    "    hist_y_list.append(count/h)\n",
    "    x1 += h\n",
    "    x2 += h    "
   ]
  },
  {
   "cell_type": "markdown",
   "id": "36badc08",
   "metadata": {},
   "source": [
    "Результирующая таблица для части 1"
   ]
  },
  {
   "cell_type": "code",
   "execution_count": 6,
   "id": "29aabfa8",
   "metadata": {
    "ExecuteTime": {
     "end_time": "2023-06-12T14:09:27.424696Z",
     "start_time": "2023-06-12T14:09:27.380548Z"
    }
   },
   "outputs": [
    {
     "data": {
      "text/html": [
       "<div>\n",
       "<style scoped>\n",
       "    .dataframe tbody tr th:only-of-type {\n",
       "        vertical-align: middle;\n",
       "    }\n",
       "\n",
       "    .dataframe tbody tr th {\n",
       "        vertical-align: top;\n",
       "    }\n",
       "\n",
       "    .dataframe thead th {\n",
       "        text-align: right;\n",
       "    }\n",
       "</style>\n",
       "<table border=\"1\" class=\"dataframe\">\n",
       "  <thead>\n",
       "    <tr style=\"text-align: right;\">\n",
       "      <th></th>\n",
       "      <th>interval</th>\n",
       "      <th>mean</th>\n",
       "      <th>rate</th>\n",
       "      <th>relative_rate</th>\n",
       "      <th>cumulative_rate</th>\n",
       "      <th>relative_cumulative_rate</th>\n",
       "    </tr>\n",
       "  </thead>\n",
       "  <tbody>\n",
       "    <tr>\n",
       "      <th>0</th>\n",
       "      <td>346.5 - 357.5</td>\n",
       "      <td>352.0</td>\n",
       "      <td>3</td>\n",
       "      <td>0.023810</td>\n",
       "      <td>3</td>\n",
       "      <td>0.023810</td>\n",
       "    </tr>\n",
       "    <tr>\n",
       "      <th>1</th>\n",
       "      <td>357.5 - 368.5</td>\n",
       "      <td>363.0</td>\n",
       "      <td>6</td>\n",
       "      <td>0.047619</td>\n",
       "      <td>9</td>\n",
       "      <td>0.071429</td>\n",
       "    </tr>\n",
       "    <tr>\n",
       "      <th>2</th>\n",
       "      <td>368.5 - 379.5</td>\n",
       "      <td>374.0</td>\n",
       "      <td>16</td>\n",
       "      <td>0.126984</td>\n",
       "      <td>25</td>\n",
       "      <td>0.198413</td>\n",
       "    </tr>\n",
       "    <tr>\n",
       "      <th>3</th>\n",
       "      <td>379.5 - 390.5</td>\n",
       "      <td>385.0</td>\n",
       "      <td>23</td>\n",
       "      <td>0.182540</td>\n",
       "      <td>48</td>\n",
       "      <td>0.380952</td>\n",
       "    </tr>\n",
       "    <tr>\n",
       "      <th>4</th>\n",
       "      <td>390.5 - 401.5</td>\n",
       "      <td>396.0</td>\n",
       "      <td>22</td>\n",
       "      <td>0.174603</td>\n",
       "      <td>70</td>\n",
       "      <td>0.555556</td>\n",
       "    </tr>\n",
       "    <tr>\n",
       "      <th>5</th>\n",
       "      <td>401.5 - 412.5</td>\n",
       "      <td>407.0</td>\n",
       "      <td>16</td>\n",
       "      <td>0.126984</td>\n",
       "      <td>86</td>\n",
       "      <td>0.682540</td>\n",
       "    </tr>\n",
       "    <tr>\n",
       "      <th>6</th>\n",
       "      <td>412.5 - 423.5</td>\n",
       "      <td>418.0</td>\n",
       "      <td>18</td>\n",
       "      <td>0.142857</td>\n",
       "      <td>104</td>\n",
       "      <td>0.825397</td>\n",
       "    </tr>\n",
       "    <tr>\n",
       "      <th>7</th>\n",
       "      <td>423.5 - 434.5</td>\n",
       "      <td>429.0</td>\n",
       "      <td>17</td>\n",
       "      <td>0.134921</td>\n",
       "      <td>121</td>\n",
       "      <td>0.960317</td>\n",
       "    </tr>\n",
       "    <tr>\n",
       "      <th>8</th>\n",
       "      <td>434.5 - 445.5</td>\n",
       "      <td>440.0</td>\n",
       "      <td>3</td>\n",
       "      <td>0.023810</td>\n",
       "      <td>124</td>\n",
       "      <td>0.984127</td>\n",
       "    </tr>\n",
       "    <tr>\n",
       "      <th>9</th>\n",
       "      <td>445.5 - 456.5</td>\n",
       "      <td>451.0</td>\n",
       "      <td>2</td>\n",
       "      <td>0.015873</td>\n",
       "      <td>126</td>\n",
       "      <td>1.000000</td>\n",
       "    </tr>\n",
       "  </tbody>\n",
       "</table>\n",
       "</div>"
      ],
      "text/plain": [
       "        interval   mean  rate  relative_rate  cumulative_rate  \\\n",
       "0  346.5 - 357.5  352.0     3       0.023810                3   \n",
       "1  357.5 - 368.5  363.0     6       0.047619                9   \n",
       "2  368.5 - 379.5  374.0    16       0.126984               25   \n",
       "3  379.5 - 390.5  385.0    23       0.182540               48   \n",
       "4  390.5 - 401.5  396.0    22       0.174603               70   \n",
       "5  401.5 - 412.5  407.0    16       0.126984               86   \n",
       "6  412.5 - 423.5  418.0    18       0.142857              104   \n",
       "7  423.5 - 434.5  429.0    17       0.134921              121   \n",
       "8  434.5 - 445.5  440.0     3       0.023810              124   \n",
       "9  445.5 - 456.5  451.0     2       0.015873              126   \n",
       "\n",
       "   relative_cumulative_rate  \n",
       "0                  0.023810  \n",
       "1                  0.071429  \n",
       "2                  0.198413  \n",
       "3                  0.380952  \n",
       "4                  0.555556  \n",
       "5                  0.682540  \n",
       "6                  0.825397  \n",
       "7                  0.960317  \n",
       "8                  0.984127  \n",
       "9                  1.000000  "
      ]
     },
     "execution_count": 6,
     "metadata": {},
     "output_type": "execute_result"
    }
   ],
   "source": [
    "df = pd.DataFrame({\"interval\": interval_list,\"mean\": mean_list,\n",
    "                   \"rate\": rate_list, \"relative_rate\": relative_rate_list, \n",
    "                   \"cumulative_rate\": cumulative_rate_list, \n",
    "                   \"relative_cumulative_rate\": relative_cumulative_rate_list}) \n",
    "df"
   ]
  },
  {
   "cell_type": "markdown",
   "id": "4751049e",
   "metadata": {},
   "source": [
    "Графики для части 1"
   ]
  },
  {
   "cell_type": "code",
   "execution_count": 7,
   "id": "66698291",
   "metadata": {
    "ExecuteTime": {
     "end_time": "2023-06-12T14:09:27.788083Z",
     "start_time": "2023-06-12T14:09:27.428630Z"
    }
   },
   "outputs": [
    {
     "data": {
      "text/plain": [
       "<Axes: xlabel='mean', ylabel='rate'>"
      ]
     },
     "execution_count": 7,
     "metadata": {},
     "output_type": "execute_result"
    },
    {
     "data": {
      "image/png": "[encoded data removed]",
      "text/plain": [
       "<Figure size 640x480 with 1 Axes>"
      ]
     },
     "metadata": {},
     "output_type": "display_data"
    }
   ],
   "source": [
    "# полигон частот\n",
    "sns.lineplot(data=df, x=\"mean\", y=\"rate\")"
   ]
  },
  {
   "cell_type": "code",
   "execution_count": 8,
   "id": "03f51e7d",
   "metadata": {
    "ExecuteTime": {
     "end_time": "2023-06-12T14:09:28.105265Z",
     "start_time": "2023-06-12T14:09:27.792085Z"
    }
   },
   "outputs": [
    {
     "data": {
      "text/plain": [
       "<Axes: xlabel='mean', ylabel='cumulative_rate'>"
      ]
     },
     "execution_count": 8,
     "metadata": {},
     "output_type": "execute_result"
    },
    {
     "data": {
      "image/png": "[encoded data removed]",
      "text/plain": [
       "<Figure size 640x480 with 1 Axes>"
      ]
     },
     "metadata": {},
     "output_type": "display_data"
    }
   ],
   "source": [
    "# полигон накопленных частот\n",
    "sns.lineplot(data=df, x=\"mean\", y=\"cumulative_rate\")"
   ]
  },
  {
   "cell_type": "code",
   "execution_count": 9,
   "id": "7cfab5ec",
   "metadata": {
    "ExecuteTime": {
     "end_time": "2023-06-12T14:09:28.421677Z",
     "start_time": "2023-06-12T14:09:28.109259Z"
    }
   },
   "outputs": [
    {
     "data": {
      "text/plain": [
       "<Axes: xlabel='mean'>"
      ]
     },
     "execution_count": 9,
     "metadata": {},
     "output_type": "execute_result"
    },
    {
     "data": {
      "image/png": "[encoded data removed]",
      "text/plain": [
       "<Figure size 640x480 with 1 Axes>"
      ]
     },
     "metadata": {},
     "output_type": "display_data"
    }
   ],
   "source": [
    "# гистограмма\n",
    "sns.barplot(data=df, x=\"mean\", y=hist_y_list)"
   ]
  },
  {
   "cell_type": "markdown",
   "id": "832c80ff",
   "metadata": {},
   "source": [
    "## Часть 2"
   ]
  },
  {
   "cell_type": "markdown",
   "id": "af30add6",
   "metadata": {},
   "source": [
    "Вычисление выборочных статистик"
   ]
  },
  {
   "cell_type": "code",
   "execution_count": 10,
   "id": "53cc31a2",
   "metadata": {
    "ExecuteTime": {
     "end_time": "2023-06-12T14:09:28.453725Z",
     "start_time": "2023-06-12T14:09:28.430688Z"
    }
   },
   "outputs": [
    {
     "data": {
      "text/plain": [
       "399.41269841269843"
      ]
     },
     "execution_count": 10,
     "metadata": {},
     "output_type": "execute_result"
    }
   ],
   "source": [
    "mean = vector.mean() # среднее (это реальное среднее выборки для проверки)\n",
    "mean"
   ]
  },
  {
   "cell_type": "code",
   "execution_count": 11,
   "id": "6928ea64",
   "metadata": {
    "ExecuteTime": {
     "end_time": "2023-06-12T14:09:28.469725Z",
     "start_time": "2023-06-12T14:09:28.457738Z"
    }
   },
   "outputs": [
    {
     "data": {
      "text/plain": [
       "523.2363174603175"
      ]
     },
     "execution_count": 11,
     "metadata": {},
     "output_type": "execute_result"
    }
   ],
   "source": [
    "vector.var() # дисперсия (это реальная дисперсия выборки для проверки)"
   ]
  },
  {
   "cell_type": "code",
   "execution_count": 12,
   "id": "d35efaa0",
   "metadata": {
    "ExecuteTime": {
     "end_time": "2023-06-12T14:09:28.484922Z",
     "start_time": "2023-06-12T14:09:28.475528Z"
    }
   },
   "outputs": [
    {
     "data": {
      "text/plain": [
       "22.87435938906962"
      ]
     },
     "execution_count": 12,
     "metadata": {},
     "output_type": "execute_result"
    }
   ],
   "source": [
    "std = vector.std() # среднеквадратическое отклонение (это реальное std выборки для проверки)\n",
    "std"
   ]
  },
  {
   "cell_type": "markdown",
   "id": "2ce2eb0e",
   "metadata": {},
   "source": [
    "Метод произведений для нахождения выборочных статистик"
   ]
  },
  {
   "cell_type": "code",
   "execution_count": 13,
   "id": "7bd5f67e",
   "metadata": {
    "ExecuteTime": {
     "end_time": "2023-06-12T14:09:28.500639Z",
     "start_time": "2023-06-12T14:09:28.488924Z"
    }
   },
   "outputs": [],
   "source": [
    "c = df[df[\"rate\"] == df[\"rate\"].max()][\"mean\"]\n",
    "k = h"
   ]
  },
  {
   "cell_type": "code",
   "execution_count": 14,
   "id": "4a95dadb",
   "metadata": {
    "ExecuteTime": {
     "end_time": "2023-06-12T14:09:28.530965Z",
     "start_time": "2023-06-12T14:09:28.504731Z"
    }
   },
   "outputs": [],
   "source": [
    "u_list = []\n",
    "m_u_list = []\n",
    "m_u_2_list = []\n",
    "control_list = []\n",
    "for i in range(len(mean_list)):\n",
    "    u_list.append(float((mean_list[i] - c)/k))\n",
    "    m_u_list.append(u_list[i]*rate_list[i])\n",
    "    m_u_2_list.append(u_list[i]*u_list[i]*rate_list[i])\n",
    "    control_list.append((u_list[i]+1)*(u_list[i]+1)*rate_list[i])\n",
    "df2 = pd.DataFrame({\"mean\": mean_list, \"rate\": rate_list, \"u\": u_list , \"m_u\": m_u_list, \"m_u_2\": m_u_2_list, \"control\": control_list})"
   ]
  },
  {
   "cell_type": "code",
   "execution_count": 15,
   "id": "a9bd63a2",
   "metadata": {
    "ExecuteTime": {
     "end_time": "2023-06-12T14:09:28.546630Z",
     "start_time": "2023-06-12T14:09:28.533584Z"
    }
   },
   "outputs": [],
   "source": [
    "# строка итого в таблтце\n",
    "result_row = []\n",
    "result_row.append(\"Итого\")\n",
    "result_row.append(df2[\"rate\"].sum())\n",
    "result_row.append(\"-\")\n",
    "result_row.append(df2[\"m_u\"].sum())\n",
    "result_row.append(df2[\"m_u_2\"].sum())\n",
    "result_row.append(df2[\"control\"].sum())"
   ]
  },
  {
   "cell_type": "markdown",
   "id": "548b0c73",
   "metadata": {},
   "source": [
    "Результирующая таблица для части 2"
   ]
  },
  {
   "cell_type": "code",
   "execution_count": 16,
   "id": "199843f0",
   "metadata": {
    "ExecuteTime": {
     "end_time": "2023-06-12T14:09:28.562628Z",
     "start_time": "2023-06-12T14:09:28.550636Z"
    }
   },
   "outputs": [],
   "source": [
    "df2.loc[len(df2.index)] = result_row"
   ]
  },
  {
   "cell_type": "code",
   "execution_count": 17,
   "id": "979005fc",
   "metadata": {
    "ExecuteTime": {
     "end_time": "2023-06-12T14:09:28.594857Z",
     "start_time": "2023-06-12T14:09:28.566723Z"
    }
   },
   "outputs": [
    {
     "data": {
      "text/html": [
       "<div>\n",
       "<style scoped>\n",
       "    .dataframe tbody tr th:only-of-type {\n",
       "        vertical-align: middle;\n",
       "    }\n",
       "\n",
       "    .dataframe tbody tr th {\n",
       "        vertical-align: top;\n",
       "    }\n",
       "\n",
       "    .dataframe thead th {\n",
       "        text-align: right;\n",
       "    }\n",
       "</style>\n",
       "<table border=\"1\" class=\"dataframe\">\n",
       "  <thead>\n",
       "    <tr style=\"text-align: right;\">\n",
       "      <th></th>\n",
       "      <th>mean</th>\n",
       "      <th>rate</th>\n",
       "      <th>u</th>\n",
       "      <th>m_u</th>\n",
       "      <th>m_u_2</th>\n",
       "      <th>control</th>\n",
       "    </tr>\n",
       "  </thead>\n",
       "  <tbody>\n",
       "    <tr>\n",
       "      <th>0</th>\n",
       "      <td>352.0</td>\n",
       "      <td>3</td>\n",
       "      <td>-3.0</td>\n",
       "      <td>-9.0</td>\n",
       "      <td>27.0</td>\n",
       "      <td>12.0</td>\n",
       "    </tr>\n",
       "    <tr>\n",
       "      <th>1</th>\n",
       "      <td>363.0</td>\n",
       "      <td>6</td>\n",
       "      <td>-2.0</td>\n",
       "      <td>-12.0</td>\n",
       "      <td>24.0</td>\n",
       "      <td>6.0</td>\n",
       "    </tr>\n",
       "    <tr>\n",
       "      <th>2</th>\n",
       "      <td>374.0</td>\n",
       "      <td>16</td>\n",
       "      <td>-1.0</td>\n",
       "      <td>-16.0</td>\n",
       "      <td>16.0</td>\n",
       "      <td>0.0</td>\n",
       "    </tr>\n",
       "    <tr>\n",
       "      <th>3</th>\n",
       "      <td>385.0</td>\n",
       "      <td>23</td>\n",
       "      <td>0.0</td>\n",
       "      <td>0.0</td>\n",
       "      <td>0.0</td>\n",
       "      <td>23.0</td>\n",
       "    </tr>\n",
       "    <tr>\n",
       "      <th>4</th>\n",
       "      <td>396.0</td>\n",
       "      <td>22</td>\n",
       "      <td>1.0</td>\n",
       "      <td>22.0</td>\n",
       "      <td>22.0</td>\n",
       "      <td>88.0</td>\n",
       "    </tr>\n",
       "    <tr>\n",
       "      <th>5</th>\n",
       "      <td>407.0</td>\n",
       "      <td>16</td>\n",
       "      <td>2.0</td>\n",
       "      <td>32.0</td>\n",
       "      <td>64.0</td>\n",
       "      <td>144.0</td>\n",
       "    </tr>\n",
       "    <tr>\n",
       "      <th>6</th>\n",
       "      <td>418.0</td>\n",
       "      <td>18</td>\n",
       "      <td>3.0</td>\n",
       "      <td>54.0</td>\n",
       "      <td>162.0</td>\n",
       "      <td>288.0</td>\n",
       "    </tr>\n",
       "    <tr>\n",
       "      <th>7</th>\n",
       "      <td>429.0</td>\n",
       "      <td>17</td>\n",
       "      <td>4.0</td>\n",
       "      <td>68.0</td>\n",
       "      <td>272.0</td>\n",
       "      <td>425.0</td>\n",
       "    </tr>\n",
       "    <tr>\n",
       "      <th>8</th>\n",
       "      <td>440.0</td>\n",
       "      <td>3</td>\n",
       "      <td>5.0</td>\n",
       "      <td>15.0</td>\n",
       "      <td>75.0</td>\n",
       "      <td>108.0</td>\n",
       "    </tr>\n",
       "    <tr>\n",
       "      <th>9</th>\n",
       "      <td>451.0</td>\n",
       "      <td>2</td>\n",
       "      <td>6.0</td>\n",
       "      <td>12.0</td>\n",
       "      <td>72.0</td>\n",
       "      <td>98.0</td>\n",
       "    </tr>\n",
       "    <tr>\n",
       "      <th>10</th>\n",
       "      <td>Итого</td>\n",
       "      <td>126</td>\n",
       "      <td>-</td>\n",
       "      <td>166.0</td>\n",
       "      <td>734.0</td>\n",
       "      <td>1192.0</td>\n",
       "    </tr>\n",
       "  </tbody>\n",
       "</table>\n",
       "</div>"
      ],
      "text/plain": [
       "     mean  rate    u    m_u  m_u_2  control\n",
       "0   352.0     3 -3.0   -9.0   27.0     12.0\n",
       "1   363.0     6 -2.0  -12.0   24.0      6.0\n",
       "2   374.0    16 -1.0  -16.0   16.0      0.0\n",
       "3   385.0    23  0.0    0.0    0.0     23.0\n",
       "4   396.0    22  1.0   22.0   22.0     88.0\n",
       "5   407.0    16  2.0   32.0   64.0    144.0\n",
       "6   418.0    18  3.0   54.0  162.0    288.0\n",
       "7   429.0    17  4.0   68.0  272.0    425.0\n",
       "8   440.0     3  5.0   15.0   75.0    108.0\n",
       "9   451.0     2  6.0   12.0   72.0     98.0\n",
       "10  Итого   126    -  166.0  734.0   1192.0"
      ]
     },
     "execution_count": 17,
     "metadata": {},
     "output_type": "execute_result"
    }
   ],
   "source": [
    "df2"
   ]
  },
  {
   "cell_type": "code",
   "execution_count": 18,
   "id": "b3dfe8ab",
   "metadata": {
    "ExecuteTime": {
     "end_time": "2023-06-12T14:09:28.610840Z",
     "start_time": "2023-06-12T14:09:28.597863Z"
    }
   },
   "outputs": [
    {
     "data": {
      "text/plain": [
       "True"
      ]
     },
     "execution_count": 18,
     "metadata": {},
     "output_type": "execute_result"
    }
   ],
   "source": [
    "# проверка \n",
    "df2[\"control\"].sum() == df2[\"m_u_2\"].sum() + 2*df2[\"m_u\"].sum() + df2[\"rate\"].sum()"
   ]
  },
  {
   "cell_type": "markdown",
   "id": "f1512146",
   "metadata": {},
   "source": [
    "Подсчет статистик методом произведений"
   ]
  },
  {
   "cell_type": "code",
   "execution_count": 19,
   "id": "d16e636f",
   "metadata": {
    "ExecuteTime": {
     "end_time": "2023-06-12T14:09:28.626508Z",
     "start_time": "2023-06-12T14:09:28.614459Z"
    }
   },
   "outputs": [],
   "source": [
    "M_U = df2[\"m_u\"].sum()/df2[\"rate\"].sum()\n",
    "M_U_2 = df2[\"m_u_2\"].sum()/df2[\"rate\"].sum()"
   ]
  },
  {
   "cell_type": "code",
   "execution_count": 20,
   "id": "42761d3d",
   "metadata": {
    "ExecuteTime": {
     "end_time": "2023-06-12T14:09:28.642509Z",
     "start_time": "2023-06-12T14:09:28.629513Z"
    }
   },
   "outputs": [],
   "source": [
    "M_X = k*M_U + c\n",
    "D_X = k*k*(M_U_2 - M_U*M_U)"
   ]
  },
  {
   "cell_type": "code",
   "execution_count": 21,
   "id": "e21937bf",
   "metadata": {
    "ExecuteTime": {
     "end_time": "2023-06-12T14:09:28.657813Z",
     "start_time": "2023-06-12T14:09:28.646143Z"
    }
   },
   "outputs": [
    {
     "data": {
      "text/plain": [
       "399.4920634920635"
      ]
     },
     "execution_count": 21,
     "metadata": {},
     "output_type": "execute_result"
    }
   ],
   "source": [
    "# выборочная средняя (можно сравнить с реальным средним выборки)\n",
    "M_X.values[0]"
   ]
  },
  {
   "cell_type": "code",
   "execution_count": 22,
   "id": "59479ec5",
   "metadata": {
    "ExecuteTime": {
     "end_time": "2023-06-12T14:09:28.673846Z",
     "start_time": "2023-06-12T14:09:28.662822Z"
    }
   },
   "outputs": [
    {
     "data": {
      "text/plain": [
       "494.85311161501636"
      ]
     },
     "execution_count": 22,
     "metadata": {},
     "output_type": "execute_result"
    }
   ],
   "source": [
    "# выборочная дисперсия (можно сравнить с реальной дисперсией выборки)\n",
    "D_X"
   ]
  },
  {
   "cell_type": "markdown",
   "id": "b44ef1cd",
   "metadata": {},
   "source": [
    "## Часть 3"
   ]
  },
  {
   "cell_type": "markdown",
   "id": "7645069a",
   "metadata": {
    "ExecuteTime": {
     "end_time": "2022-12-11T08:59:42.070733Z",
     "start_time": "2022-12-11T08:59:42.058648Z"
    }
   },
   "source": [
    "Выдвигаем нулевую гипотезу о том, что наша генеральная совокупность имеет нормальное распределение. Составляем таблицу теоретических частот."
   ]
  },
  {
   "cell_type": "code",
   "execution_count": 23,
   "id": "0a806c15",
   "metadata": {
    "ExecuteTime": {
     "end_time": "2023-06-12T14:09:28.704243Z",
     "start_time": "2023-06-12T14:09:28.677849Z"
    }
   },
   "outputs": [],
   "source": [
    "x1_new_list = []\n",
    "z_list = []\n",
    "F_list = []\n",
    "for i in range(len(x1_list)):\n",
    "    x1_new_list.append(x1_list[i])\n",
    "    x1_new_list.append(\"--\")\n",
    "    z_list.append((x1_list[i] - mean)/std)\n",
    "    F_list.append(scipy.stats.norm.cdf(z_list[-1]))\n",
    "    z_list.append(\"--\")\n",
    "    F_list.append(\"--\")\n",
    "x1_new_list.append(x2_list[-1]) \n",
    "z_list.append((x2_list[-1] - mean)/std)\n",
    "F_list.append(scipy.stats.norm.cdf(z_list[-1]))    "
   ]
  },
  {
   "cell_type": "code",
   "execution_count": 24,
   "id": "13dcd34a",
   "metadata": {
    "ExecuteTime": {
     "end_time": "2023-06-12T14:09:28.720207Z",
     "start_time": "2023-06-12T14:09:28.708209Z"
    }
   },
   "outputs": [],
   "source": [
    "x_mean_new_list = []\n",
    "rate_new_list = []\n",
    "for i in range(len(mean_list)):\n",
    "    x_mean_new_list.append(\"--\")\n",
    "    x_mean_new_list.append(mean_list[i])\n",
    "    rate_new_list.append(\"--\")\n",
    "    rate_new_list.append(rate_list[i])\n",
    "   \n",
    "x_mean_new_list.append(\"--\") \n",
    "rate_new_list.append(\"--\") "
   ]
  },
  {
   "cell_type": "code",
   "execution_count": 25,
   "id": "e50326da",
   "metadata": {
    "ExecuteTime": {
     "end_time": "2023-06-12T14:09:28.735960Z",
     "start_time": "2023-06-12T14:09:28.724214Z"
    }
   },
   "outputs": [],
   "source": [
    "P_list = []\n",
    "m_teory = []\n",
    "m_m_list = []\n",
    "P_list.append(\"--\")\n",
    "m_teory.append(\"--\")\n",
    "m_m_list.append(\"--\")\n",
    "\n",
    "for i in range(0, len(F_list) - 2, 2):\n",
    "    P_list.append(F_list[i+2] - F_list[i])\n",
    "    m_teory.append(P_list[-1]*n)\n",
    "    m_m_list.append((rate_new_list[i+1] - m_teory[-1])*(rate_new_list[i+1] - m_teory[-1])/m_teory[-1])\n",
    "    P_list.append(\"--\")\n",
    "    m_teory.append(\"--\")\n",
    "    m_m_list.append(\"--\")"
   ]
  },
  {
   "cell_type": "code",
   "execution_count": 26,
   "id": "06fb1c6f",
   "metadata": {
    "ExecuteTime": {
     "end_time": "2023-06-12T14:09:28.751794Z",
     "start_time": "2023-06-12T14:09:28.738968Z"
    }
   },
   "outputs": [],
   "source": [
    "df3 = pd.DataFrame({\"mean\": x_mean_new_list, \"x\": x1_new_list, \"m\": rate_new_list, \"z\": z_list, \"F\": F_list, \"P\": P_list, \"m_teory\": m_teory, \"(m-m)^2/m\": m_m_list})"
   ]
  },
  {
   "cell_type": "code",
   "execution_count": 27,
   "id": "ac48e04e",
   "metadata": {
    "ExecuteTime": {
     "end_time": "2023-06-12T14:09:28.766988Z",
     "start_time": "2023-06-12T14:09:28.755828Z"
    }
   },
   "outputs": [],
   "source": [
    "# строка итого в таблтце\n",
    "result_row_2 = []\n",
    "result_row_2.append(\"Итого\")\n",
    "result_row_2.append(\"-\")\n",
    "result_row_2.append(sum(rate_list))\n",
    "result_row_2.append(\"-\")\n",
    "result_row_2.append(\"-\")\n",
    "P_sum = 0\n",
    "m_sum = 0\n",
    "m_m_sum = 0\n",
    "for i in range(1, len(P_list), 2):\n",
    "    P_sum += P_list[i]\n",
    "    m_sum += m_teory[i]\n",
    "    m_m_sum += m_m_list[i]\n",
    "result_row_2.append(P_sum)\n",
    "result_row_2.append(m_sum)\n",
    "result_row_2.append(m_m_sum)"
   ]
  },
  {
   "cell_type": "code",
   "execution_count": 28,
   "id": "c4544c51",
   "metadata": {
    "ExecuteTime": {
     "end_time": "2023-06-12T14:09:28.798814Z",
     "start_time": "2023-06-12T14:09:28.776044Z"
    }
   },
   "outputs": [],
   "source": [
    "df3.loc[len(df3.index)] = result_row_2"
   ]
  },
  {
   "cell_type": "code",
   "execution_count": 29,
   "id": "b0a0314f",
   "metadata": {
    "ExecuteTime": {
     "end_time": "2023-06-12T14:09:28.828893Z",
     "start_time": "2023-06-12T14:09:28.802800Z"
    },
    "scrolled": false
   },
   "outputs": [
    {
     "data": {
      "text/html": [
       "<div>\n",
       "<style scoped>\n",
       "    .dataframe tbody tr th:only-of-type {\n",
       "        vertical-align: middle;\n",
       "    }\n",
       "\n",
       "    .dataframe tbody tr th {\n",
       "        vertical-align: top;\n",
       "    }\n",
       "\n",
       "    .dataframe thead th {\n",
       "        text-align: right;\n",
       "    }\n",
       "</style>\n",
       "<table border=\"1\" class=\"dataframe\">\n",
       "  <thead>\n",
       "    <tr style=\"text-align: right;\">\n",
       "      <th></th>\n",
       "      <th>mean</th>\n",
       "      <th>x</th>\n",
       "      <th>m</th>\n",
       "      <th>z</th>\n",
       "      <th>F</th>\n",
       "      <th>P</th>\n",
       "      <th>m_teory</th>\n",
       "      <th>(m-m)^2/m</th>\n",
       "    </tr>\n",
       "  </thead>\n",
       "  <tbody>\n",
       "    <tr>\n",
       "      <th>0</th>\n",
       "      <td>--</td>\n",
       "      <td>346.5</td>\n",
       "      <td>--</td>\n",
       "      <td>-2.313188</td>\n",
       "      <td>0.010356</td>\n",
       "      <td>--</td>\n",
       "      <td>--</td>\n",
       "      <td>--</td>\n",
       "    </tr>\n",
       "    <tr>\n",
       "      <th>1</th>\n",
       "      <td>352.0</td>\n",
       "      <td>--</td>\n",
       "      <td>3</td>\n",
       "      <td>--</td>\n",
       "      <td>--</td>\n",
       "      <td>0.023097</td>\n",
       "      <td>2.910246</td>\n",
       "      <td>0.002768</td>\n",
       "    </tr>\n",
       "    <tr>\n",
       "      <th>2</th>\n",
       "      <td>--</td>\n",
       "      <td>357.5</td>\n",
       "      <td>--</td>\n",
       "      <td>-1.8323</td>\n",
       "      <td>0.033453</td>\n",
       "      <td>--</td>\n",
       "      <td>--</td>\n",
       "      <td>--</td>\n",
       "    </tr>\n",
       "    <tr>\n",
       "      <th>3</th>\n",
       "      <td>363.0</td>\n",
       "      <td>--</td>\n",
       "      <td>6</td>\n",
       "      <td>--</td>\n",
       "      <td>--</td>\n",
       "      <td>0.054828</td>\n",
       "      <td>6.908367</td>\n",
       "      <td>0.119439</td>\n",
       "    </tr>\n",
       "    <tr>\n",
       "      <th>4</th>\n",
       "      <td>--</td>\n",
       "      <td>368.5</td>\n",
       "      <td>--</td>\n",
       "      <td>-1.351413</td>\n",
       "      <td>0.088282</td>\n",
       "      <td>--</td>\n",
       "      <td>--</td>\n",
       "      <td>--</td>\n",
       "    </tr>\n",
       "    <tr>\n",
       "      <th>5</th>\n",
       "      <td>374.0</td>\n",
       "      <td>--</td>\n",
       "      <td>16</td>\n",
       "      <td>--</td>\n",
       "      <td>--</td>\n",
       "      <td>0.103725</td>\n",
       "      <td>13.069372</td>\n",
       "      <td>0.657153</td>\n",
       "    </tr>\n",
       "    <tr>\n",
       "      <th>6</th>\n",
       "      <td>--</td>\n",
       "      <td>379.5</td>\n",
       "      <td>--</td>\n",
       "      <td>-0.870525</td>\n",
       "      <td>0.192007</td>\n",
       "      <td>--</td>\n",
       "      <td>--</td>\n",
       "      <td>--</td>\n",
       "    </tr>\n",
       "    <tr>\n",
       "      <th>7</th>\n",
       "      <td>385.0</td>\n",
       "      <td>--</td>\n",
       "      <td>23</td>\n",
       "      <td>--</td>\n",
       "      <td>--</td>\n",
       "      <td>0.156396</td>\n",
       "      <td>19.705851</td>\n",
       "      <td>0.55067</td>\n",
       "    </tr>\n",
       "    <tr>\n",
       "      <th>8</th>\n",
       "      <td>--</td>\n",
       "      <td>390.5</td>\n",
       "      <td>--</td>\n",
       "      <td>-0.389637</td>\n",
       "      <td>0.348402</td>\n",
       "      <td>--</td>\n",
       "      <td>--</td>\n",
       "      <td>--</td>\n",
       "    </tr>\n",
       "    <tr>\n",
       "      <th>9</th>\n",
       "      <td>396.0</td>\n",
       "      <td>--</td>\n",
       "      <td>22</td>\n",
       "      <td>--</td>\n",
       "      <td>--</td>\n",
       "      <td>0.187951</td>\n",
       "      <td>23.681806</td>\n",
       "      <td>0.119436</td>\n",
       "    </tr>\n",
       "    <tr>\n",
       "      <th>10</th>\n",
       "      <td>--</td>\n",
       "      <td>401.5</td>\n",
       "      <td>--</td>\n",
       "      <td>0.091251</td>\n",
       "      <td>0.536353</td>\n",
       "      <td>--</td>\n",
       "      <td>--</td>\n",
       "      <td>--</td>\n",
       "    </tr>\n",
       "    <tr>\n",
       "      <th>11</th>\n",
       "      <td>407.0</td>\n",
       "      <td>--</td>\n",
       "      <td>16</td>\n",
       "      <td>--</td>\n",
       "      <td>--</td>\n",
       "      <td>0.180033</td>\n",
       "      <td>22.684109</td>\n",
       "      <td>1.969543</td>\n",
       "    </tr>\n",
       "    <tr>\n",
       "      <th>12</th>\n",
       "      <td>--</td>\n",
       "      <td>412.5</td>\n",
       "      <td>--</td>\n",
       "      <td>0.572138</td>\n",
       "      <td>0.716386</td>\n",
       "      <td>--</td>\n",
       "      <td>--</td>\n",
       "      <td>--</td>\n",
       "    </tr>\n",
       "    <tr>\n",
       "      <th>13</th>\n",
       "      <td>418.0</td>\n",
       "      <td>--</td>\n",
       "      <td>18</td>\n",
       "      <td>--</td>\n",
       "      <td>--</td>\n",
       "      <td>0.13745</td>\n",
       "      <td>17.31865</td>\n",
       "      <td>0.026806</td>\n",
       "    </tr>\n",
       "    <tr>\n",
       "      <th>14</th>\n",
       "      <td>--</td>\n",
       "      <td>423.5</td>\n",
       "      <td>--</td>\n",
       "      <td>1.053026</td>\n",
       "      <td>0.853836</td>\n",
       "      <td>--</td>\n",
       "      <td>--</td>\n",
       "      <td>--</td>\n",
       "    </tr>\n",
       "    <tr>\n",
       "      <th>15</th>\n",
       "      <td>429.0</td>\n",
       "      <td>--</td>\n",
       "      <td>17</td>\n",
       "      <td>--</td>\n",
       "      <td>--</td>\n",
       "      <td>0.083639</td>\n",
       "      <td>10.538524</td>\n",
       "      <td>3.96172</td>\n",
       "    </tr>\n",
       "    <tr>\n",
       "      <th>16</th>\n",
       "      <td>--</td>\n",
       "      <td>434.5</td>\n",
       "      <td>--</td>\n",
       "      <td>1.533914</td>\n",
       "      <td>0.937475</td>\n",
       "      <td>--</td>\n",
       "      <td>--</td>\n",
       "      <td>--</td>\n",
       "    </tr>\n",
       "    <tr>\n",
       "      <th>17</th>\n",
       "      <td>440.0</td>\n",
       "      <td>--</td>\n",
       "      <td>3</td>\n",
       "      <td>--</td>\n",
       "      <td>--</td>\n",
       "      <td>0.040563</td>\n",
       "      <td>5.110899</td>\n",
       "      <td>0.871842</td>\n",
       "    </tr>\n",
       "    <tr>\n",
       "      <th>18</th>\n",
       "      <td>--</td>\n",
       "      <td>445.5</td>\n",
       "      <td>--</td>\n",
       "      <td>2.014802</td>\n",
       "      <td>0.978037</td>\n",
       "      <td>--</td>\n",
       "      <td>--</td>\n",
       "      <td>--</td>\n",
       "    </tr>\n",
       "    <tr>\n",
       "      <th>19</th>\n",
       "      <td>451.0</td>\n",
       "      <td>--</td>\n",
       "      <td>2</td>\n",
       "      <td>--</td>\n",
       "      <td>--</td>\n",
       "      <td>0.015677</td>\n",
       "      <td>1.975312</td>\n",
       "      <td>0.000309</td>\n",
       "    </tr>\n",
       "    <tr>\n",
       "      <th>20</th>\n",
       "      <td>--</td>\n",
       "      <td>456.5</td>\n",
       "      <td>--</td>\n",
       "      <td>2.49569</td>\n",
       "      <td>0.993714</td>\n",
       "      <td>--</td>\n",
       "      <td>--</td>\n",
       "      <td>--</td>\n",
       "    </tr>\n",
       "    <tr>\n",
       "      <th>21</th>\n",
       "      <td>Итого</td>\n",
       "      <td>-</td>\n",
       "      <td>126</td>\n",
       "      <td>-</td>\n",
       "      <td>-</td>\n",
       "      <td>0.983358</td>\n",
       "      <td>123.903136</td>\n",
       "      <td>8.279685</td>\n",
       "    </tr>\n",
       "  </tbody>\n",
       "</table>\n",
       "</div>"
      ],
      "text/plain": [
       "     mean      x    m         z         F         P     m_teory (m-m)^2/m\n",
       "0      --  346.5   -- -2.313188  0.010356        --          --        --\n",
       "1   352.0     --    3        --        --  0.023097    2.910246  0.002768\n",
       "2      --  357.5   --   -1.8323  0.033453        --          --        --\n",
       "3   363.0     --    6        --        --  0.054828    6.908367  0.119439\n",
       "4      --  368.5   -- -1.351413  0.088282        --          --        --\n",
       "5   374.0     --   16        --        --  0.103725   13.069372  0.657153\n",
       "6      --  379.5   -- -0.870525  0.192007        --          --        --\n",
       "7   385.0     --   23        --        --  0.156396   19.705851   0.55067\n",
       "8      --  390.5   -- -0.389637  0.348402        --          --        --\n",
       "9   396.0     --   22        --        --  0.187951   23.681806  0.119436\n",
       "10     --  401.5   --  0.091251  0.536353        --          --        --\n",
       "11  407.0     --   16        --        --  0.180033   22.684109  1.969543\n",
       "12     --  412.5   --  0.572138  0.716386        --          --        --\n",
       "13  418.0     --   18        --        --   0.13745    17.31865  0.026806\n",
       "14     --  423.5   --  1.053026  0.853836        --          --        --\n",
       "15  429.0     --   17        --        --  0.083639   10.538524   3.96172\n",
       "16     --  434.5   --  1.533914  0.937475        --          --        --\n",
       "17  440.0     --    3        --        --  0.040563    5.110899  0.871842\n",
       "18     --  445.5   --  2.014802  0.978037        --          --        --\n",
       "19  451.0     --    2        --        --  0.015677    1.975312  0.000309\n",
       "20     --  456.5   --   2.49569  0.993714        --          --        --\n",
       "21  Итого      -  126         -         -  0.983358  123.903136  8.279685"
      ]
     },
     "execution_count": 29,
     "metadata": {},
     "output_type": "execute_result"
    }
   ],
   "source": [
    "df3   "
   ]
  },
  {
   "cell_type": "markdown",
   "id": "0314a2aa",
   "metadata": {},
   "source": [
    "**Значение хи-квадрата 8.27 меньше критического значения, а значит у нас нет оснований отвергнуть нулевую гипотезу о том, что наше распределение нормальное**"
   ]
  }
 ],
 "metadata": {
  "kernelspec": {
   "display_name": "Python 3 (ipykernel)",
   "language": "python",
   "name": "python3"
  },
  "language_info": {
   "codemirror_mode": {
    "name": "ipython",
    "version": 3
   },
   "file_extension": ".py",
   "mimetype": "text/x-python",
   "name": "python",
   "nbconvert_exporter": "python",
   "pygments_lexer": "ipython3",
   "version": "3.10.0"
  },
  "nbTranslate": {
   "displayLangs": [
    "*"
   ],
   "hotkey": "alt-t",
   "langInMainMenu": true,
   "sourceLang": "en",
   "targetLang": "fr",
   "useGoogleTranslate": true
  },
  "toc": {
   "base_numbering": 1,
   "nav_menu": {},
   "number_sections": true,
   "sideBar": true,
   "skip_h1_title": false,
   "title_cell": "Table of Contents",
   "title_sidebar": "Contents",
   "toc_cell": false,
   "toc_position": {},
   "toc_section_display": true,
   "toc_window_display": false
  },
  "varInspector": {
   "cols": {
    "lenName": 16,
    "lenType": 16,
    "lenVar": 40
   },
   "kernels_config": {
    "python": {
     "delete_cmd_postfix": "",
     "delete_cmd_prefix": "del ",
     "library": "var_list.py",
     "varRefreshCmd": "print(var_dic_list())"
    },
    "r": {
     "delete_cmd_postfix": ") ",
     "delete_cmd_prefix": "rm(",
     "library": "var_list.r",
     "varRefreshCmd": "cat(var_dic_list()) "
    }
   },
   "types_to_exclude": [
    "module",
    "function",
    "builtin_function_or_method",
    "instance",
    "_Feature"
   ],
   "window_display": false
  }
 },
 "nbformat": 4,
 "nbformat_minor": 5
}
